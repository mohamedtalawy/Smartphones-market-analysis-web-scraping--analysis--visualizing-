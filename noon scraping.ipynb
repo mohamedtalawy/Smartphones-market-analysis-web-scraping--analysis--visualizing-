{
 "cells": [
  {
   "cell_type": "markdown",
   "id": "cce8cc4d",
   "metadata": {},
   "source": [
    "### 1- Importing Libraries"
   ]
  },
  {
   "cell_type": "code",
   "execution_count": 217,
   "id": "d8212f3b",
   "metadata": {},
   "outputs": [],
   "source": [
    "import requests\n",
    "from bs4 import BeautifulSoup as bs\n",
    "from urllib.request import urlopen\n",
    "import csv\n",
    "import string\n",
    "from selenium import webdriver\n",
    "from itertools import zip_longest\n",
    "import time"
   ]
  },
  {
   "cell_type": "markdown",
   "id": "cf8cde97",
   "metadata": {},
   "source": [
    "### 2- Identifing the used lists:"
   ]
  },
  {
   "cell_type": "code",
   "execution_count": 218,
   "id": "90b62e72",
   "metadata": {},
   "outputs": [],
   "source": [
    "Models= []\n",
    "Prices=[]\n",
    "Description=[]\n",
    "links=[]\n",
    "brand=[]\n",
    "Ram=[]\n",
    "Storage=[]\n",
    "Modelname=[]\n",
    "pn=1\n",
    "Color=[]\n",
    "Screensize=[]\n",
    "Batterysize=[]\n",
    "RatingValue=[]\n",
    "RatingCount=[]\n",
    "Shipping=[]"
   ]
  },
  {
   "cell_type": "markdown",
   "id": "8caec64d",
   "metadata": {},
   "source": [
    "### 3- Scraping the pages with filters from noon.com"
   ]
  },
  {
   "cell_type": "code",
   "execution_count": 219,
   "id": "f9e31ad7",
   "metadata": {},
   "outputs": [
    {
     "name": "stdout",
     "output_type": "stream",
     "text": [
      "page Sweicthed\n",
      "page Sweicthed\n",
      "page Sweicthed\n",
      "page Sweicthed\n",
      "page Sweicthed\n",
      "page Sweicthed\n",
      "page Sweicthed\n",
      "page Sweicthed\n",
      "page Sweicthed\n",
      "page ended \n"
     ]
    }
   ],
   "source": [
    "\n",
    "while True:\n",
    "    \n",
    "    try:\n",
    "        url=f\"https://www.noon.com/egypt-en/electronics-and-mobiles/mobiles-and-accessories/mobiles-20905/smartphones/apple/huawei/oppo/samsung/xiaomi/eg-mobile-brands?f[operating_system]=android&f[operating_system]=ios&page={pn}&sort[by]=product_rating&sort[dir]=desc&gclid=Cj0KCQjw6ZOIBhDdARIsAMf8YyE4R0aIvXAdAFQNNxNpf1gAShb4pX2qVyjn4D_N6_aff06ZaMbqTQAaAijlEALw_wcB\"\n",
    "        client=urlopen(url)\n",
    "        html=client.read()\n",
    "        client.close()\n",
    "        soub=bs(html,\"html.parser\")\n",
    "        #pl=int(soub.find(\"div\",{\"data-qa\":\"searchHeader\",\"class\":\"sc-14cxujr-2 izmBnU\"}).h2.text.split(' ')[0])\n",
    "\n",
    "        if pn==10 :\n",
    "            print(\"page ended \")\n",
    "            break\n",
    "        Model= Descrip = soub.find_all(\"div\" , {\"class\":\"e3js0d-7 jULUCI\"})\n",
    "        price = soub.find_all(\"div\" , {\"class\":\"e3js0d-8 jtiosv\"})\n",
    "        link=soub.find_all(\"div\",{\"class\":\"productContainer\"})\n",
    "        Rating=soub.find_all(\"span\",{\"class\":\"ratingValue\"})\n",
    "        RatCount=soub.find_all(\"span\",{\"class\":\"ratingCount\"})\n",
    "        for j in Rating:\n",
    "            RatingValue.append(j.text)\n",
    "            \n",
    "        for k in RatCount:\n",
    "            RatingCount.append(k.text)    \n",
    "\n",
    "        for i in range(len(Model)):\n",
    "            Models.append(Model[i].text.split(',')[0].strip().split(' ')[0]) \n",
    "            Prices.append(price[i].strong.text.strip())\n",
    "            Description.append(Descrip[i].text.strip())\n",
    "            links.append(\"https://www.noon.com\"+link[i].find(\"a\").attrs['href'])\n",
    "            \n",
    "            \n",
    "            \n",
    "\n",
    "        pn+=1\n",
    "        print(\"page Sweicthed\")\n",
    "    except:\n",
    "        print('error occured')\n",
    "        break\n",
    "       \n",
    "    \n",
    "\n",
    "    \n",
    "\n",
    "\n",
    "\n",
    "\n",
    "\n",
    "\n"
   ]
  },
  {
   "cell_type": "code",
   "execution_count": 220,
   "id": "4f7c8a7f",
   "metadata": {},
   "outputs": [
    {
     "data": {
      "text/plain": [
       "407"
      ]
     },
     "execution_count": 220,
     "metadata": {},
     "output_type": "execute_result"
    }
   ],
   "source": [
    "\n",
    "len(Models)"
   ]
  },
  {
   "cell_type": "markdown",
   "id": "9faf9129",
   "metadata": {},
   "source": [
    "### 4- Exctracting all Specifications from the inner page for each phone  "
   ]
  },
  {
   "cell_type": "code",
   "execution_count": 221,
   "id": "ac80e85d",
   "metadata": {},
   "outputs": [],
   "source": [
    "driver = webdriver.Chrome('D:\\ITI-BI\\Final Project\\chromedriver.exe')\n",
    "all_items=[]\n",
    "\n",
    "for link in links:\n",
    "    item=[]\n",
    "    driver.get(link)\n",
    "    search = driver.find_element_by_id('Specifications')\n",
    "    search.click()\n",
    "    time.sleep(2)\n",
    "    rams=driver.find_elements_by_xpath('//div[@class=\"sc-1oxmzfx-0 QYtTi\"]/div/div/table/tbody/tr')\n",
    "    \n",
    "    try:\n",
    "        shiping=driver.find_element_by_xpath('//div[@class=\"u8zs36-0 kRPdZJ\"]/img[@alt=\"noon-express\"]')\n",
    "        Shipping.append(\"FREE Shipping\")\n",
    "    except:\n",
    "        Shipping.append(\"Paid Sipping\")        \n",
    "    for r in rams :\n",
    "        item.append(r.text)\n",
    "            \n",
    "    all_items.append(item)    \n",
    "    continue\n",
    "\n"
   ]
  },
  {
   "cell_type": "code",
   "execution_count": 222,
   "id": "8cd34a99",
   "metadata": {},
   "outputs": [
    {
     "data": {
      "text/plain": [
       "407"
      ]
     },
     "execution_count": 222,
     "metadata": {},
     "output_type": "execute_result"
    }
   ],
   "source": [
    "len(all_items)"
   ]
  },
  {
   "cell_type": "markdown",
   "id": "59656916",
   "metadata": {},
   "source": [
    "### 5- Exctracting Details from all Specificatons for each phone"
   ]
  },
  {
   "cell_type": "code",
   "execution_count": 1,
   "id": "053b15c5",
   "metadata": {},
   "outputs": [
    {
     "ename": "NameError",
     "evalue": "name 'all_items' is not defined",
     "output_type": "error",
     "traceback": [
      "\u001b[1;31m---------------------------------------------------------------------------\u001b[0m",
      "\u001b[1;31mNameError\u001b[0m                                 Traceback (most recent call last)",
      "\u001b[1;32m<ipython-input-1-fe70b2e95c21>\u001b[0m in \u001b[0;36m<module>\u001b[1;34m\u001b[0m\n\u001b[0;32m      6\u001b[0m \u001b[0mSS\u001b[0m\u001b[1;33m=\u001b[0m\u001b[1;34m\"Screen Size\"\u001b[0m\u001b[1;33m\u001b[0m\u001b[1;33m\u001b[0m\u001b[0m\n\u001b[0;32m      7\u001b[0m \u001b[0mBS\u001b[0m\u001b[1;33m=\u001b[0m\u001b[1;34m\"Battery Size\"\u001b[0m\u001b[1;33m\u001b[0m\u001b[1;33m\u001b[0m\u001b[0m\n\u001b[1;32m----> 8\u001b[1;33m \u001b[1;32mfor\u001b[0m \u001b[0mi\u001b[0m \u001b[1;32min\u001b[0m \u001b[0mall_items\u001b[0m\u001b[1;33m:\u001b[0m\u001b[1;33m\u001b[0m\u001b[1;33m\u001b[0m\u001b[0m\n\u001b[0m\u001b[0;32m      9\u001b[0m \u001b[1;33m\u001b[0m\u001b[0m\n\u001b[0;32m     10\u001b[0m     \u001b[1;31m#Scraping Rams\u001b[0m\u001b[1;33m\u001b[0m\u001b[1;33m\u001b[0m\u001b[1;33m\u001b[0m\u001b[0m\n",
      "\u001b[1;31mNameError\u001b[0m: name 'all_items' is not defined"
     ]
    }
   ],
   "source": [
    "R=\"RAM Size\"\n",
    "S=\"Internal Memory\"\n",
    "M=\"Model Name\"\n",
    "N=\"Model Number\"\n",
    "C=\"Colour Name\"\n",
    "SS=\"Screen Size\"\n",
    "BS=\"Battery Size\"\n",
    "for i in all_items:\n",
    "    \n",
    "    #Scraping Rams\n",
    "    if R in str(i):\n",
    "        for j in i :\n",
    "            if R in j:\n",
    "                Ram.append(j.split(' ')[2])\n",
    "    \n",
    "    else:\n",
    "         Ram.append(\"None\")  \n",
    "    \n",
    "    \n",
    "     #Scraping Storages\n",
    "    if S in str(i):\n",
    "        for j in i :\n",
    "            if S in j:\n",
    "                Storage.append(j.split(' ')[2])\n",
    "    \n",
    "    else:\n",
    "         Storage.append(\"None\")        \n",
    "                \n",
    "    \n",
    "     #Scraping Model Names\n",
    "    if M in str(i):\n",
    "        for j in i :\n",
    "            if M in j:\n",
    "                Modelname.append(j[11:])\n",
    "           \n",
    "    else:\n",
    "        if N in str(i):\n",
    "            for j in i :\n",
    "                if N in j:\n",
    "                    Modelname.append(j[13:])\n",
    "        else:\n",
    "             Modelname.append(\"None\")\n",
    "            \n",
    "     #Scraping Colors    \n",
    "    if C in str(i):\n",
    "        for j in i :\n",
    "            if C in j:\n",
    "                Color.append(j[12:])\n",
    "\n",
    "    else:\n",
    "         Color.append(\"None\")  \n",
    "    \n",
    "     #Scraping Screen Size\n",
    "    if SS in str(i):\n",
    "        for j in i :\n",
    "            if SS in j:\n",
    "                Screensize.append(j[12:16])\n",
    "    else:\n",
    "         Screensize.append(\"None\") \n",
    "    \n",
    "     #Scraping Batterysize\n",
    "    if BS in str(i):\n",
    "        for j in i :\n",
    "            if BS in j:\n",
    "                Batterysize.append(j[13:18])\n",
    "    else:\n",
    "         Batterysize.append(\"None\")         "
   ]
  },
  {
   "cell_type": "markdown",
   "id": "70a9f101",
   "metadata": {},
   "source": [
    "### 6- Create csv file and fill it with values"
   ]
  },
  {
   "cell_type": "code",
   "execution_count": 240,
   "id": "8fa597f6",
   "metadata": {},
   "outputs": [
    {
     "data": {
      "text/plain": [
       "397"
      ]
     },
     "execution_count": 240,
     "metadata": {},
     "output_type": "execute_result"
    }
   ],
   "source": [
    "file_list =[Models,Modelname,Prices,Description,links,Ram,Storage,Color,Batterysize,Screensize,RatingValue,RatingCount,Shipping]\n",
    "exported = zip_longest(*file_list)\n",
    "RatingValue=[]\n",
    "RatingCount=[]\n",
    "Shipping=[]\n",
    "with open(\"D:\\ITI-BI\\Final Project/noon.csv\",\"w\", newline='') as myfile:\n",
    "    wr=csv.writer(myfile)\n",
    "    wr.writerow([\"Brand\",\"Model\",\"Price\",\"Description\",\"URL\",\"Ram\",\"Storage\",\"Color\",\"Batterysize\",\"Screensize\",\"Rating\",\"Rating Count\",\"Shipping\"])\n",
    "    wr.writerows(exported)"
   ]
  }
 ],
 "metadata": {
  "kernelspec": {
   "display_name": "Python 3",
   "language": "python",
   "name": "python3"
  },
  "language_info": {
   "codemirror_mode": {
    "name": "ipython",
    "version": 3
   },
   "file_extension": ".py",
   "mimetype": "text/x-python",
   "name": "python",
   "nbconvert_exporter": "python",
   "pygments_lexer": "ipython3",
   "version": "3.8.8"
  }
 },
 "nbformat": 4,
 "nbformat_minor": 5
}
