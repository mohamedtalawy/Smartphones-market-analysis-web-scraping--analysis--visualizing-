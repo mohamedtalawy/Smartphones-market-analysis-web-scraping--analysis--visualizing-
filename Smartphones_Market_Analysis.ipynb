{
 "cells": [
  {
   "cell_type": "markdown",
   "id": "6bcf1f85",
   "metadata": {},
   "source": [
    "### 1- Importing  Datasets"
   ]
  },
  {
   "cell_type": "code",
   "execution_count": 26,
   "id": "d5c85207",
   "metadata": {
    "scrolled": false
   },
   "outputs": [],
   "source": [
    "import pandas as pd\n",
    "souq=pd.read_csv(\"souq.csv\")\n",
    "noon= pd.read_csv(\"noon.csv\")\n",
    "jumia= pd.read_csv(\"jumia.csv\")\n"
   ]
  },
  {
   "cell_type": "markdown",
   "id": "eaa47c76",
   "metadata": {},
   "source": [
    "#### 2- Changing Column names to match other Datasets"
   ]
  },
  {
   "cell_type": "code",
   "execution_count": 2,
   "id": "a8a2298a",
   "metadata": {
    "scrolled": true
   },
   "outputs": [
    {
     "data": {
      "text/plain": [
       "Index(['Brand', 'Model', 'Price_souq', 'Description', 'URL_souq', 'Color',\n",
       "       'Ram', 'Storage', 'Shipping_souq', 'Screensize', 'Rating_souq',\n",
       "       'count_souq', 'Platform1'],\n",
       "      dtype='object')"
      ]
     },
     "execution_count": 2,
     "metadata": {},
     "output_type": "execute_result"
    }
   ],
   "source": [
    "souq.rename(columns={'Shipping':'Shipping_souq','Platform':'Platform1','URL':'URL_souq'},inplace=True)\n",
    "souq.columns\n"
   ]
  },
  {
   "cell_type": "code",
   "execution_count": 3,
   "id": "ffcff076",
   "metadata": {},
   "outputs": [
    {
     "data": {
      "text/plain": [
       "Index(['Brand', 'Model', 'Price_noon', 'Description_noon', 'URL_noon', 'Ram',\n",
       "       'Storage', 'Color', 'Batterysize', 'Screensize', 'Rating_noon',\n",
       "       'count_noon', 'Shipping_noon', 'Platform2'],\n",
       "      dtype='object')"
      ]
     },
     "execution_count": 3,
     "metadata": {},
     "output_type": "execute_result"
    }
   ],
   "source": [
    "noon.rename(columns={'Shipping':'Shipping_noon','Platform':'Platform2','URL':'URL_noon','Description':'Description_noon'},inplace=True)\n",
    "noon.columns"
   ]
  },
  {
   "cell_type": "code",
   "execution_count": 4,
   "id": "4ceef487",
   "metadata": {},
   "outputs": [
    {
     "data": {
      "text/plain": [
       "Index(['Brand', 'Description_jumia', 'Model', 'Price_jumia', 'Color',\n",
       "       'Storage', 'Ram', 'URL_jumia', 'Rating_jumia', 'Count_jumia',\n",
       "       'Shipping_jumia', 'Platform3'],\n",
       "      dtype='object')"
      ]
     },
     "execution_count": 4,
     "metadata": {},
     "output_type": "execute_result"
    }
   ],
   "source": [
    "jumia.rename(columns={'Shipping':'Shipping_jumia','Platform':'Platform3','URL':'URL_jumia','Description':'Description_jumia','Price Jumia':'Price_jumia'},inplace=True)\n",
    "jumia.columns"
   ]
  },
  {
   "cell_type": "markdown",
   "id": "1e8c32fd",
   "metadata": {},
   "source": [
    "### 3- Unifying Text case for joining purpose"
   ]
  },
  {
   "cell_type": "code",
   "execution_count": 6,
   "id": "920e1870",
   "metadata": {},
   "outputs": [],
   "source": [
    "def Cap(y):\n",
    "    return y.capitalize() "
   ]
  },
  {
   "cell_type": "code",
   "execution_count": 7,
   "id": "48e0bdc5",
   "metadata": {},
   "outputs": [],
   "source": [
    "def LOW(x):\n",
    "    return x.lower()"
   ]
  },
  {
   "cell_type": "code",
   "execution_count": 8,
   "id": "a0040ccb",
   "metadata": {
    "scrolled": true
   },
   "outputs": [
    {
     "data": {
      "text/plain": [
       "(573, 13)"
      ]
     },
     "execution_count": 8,
     "metadata": {},
     "output_type": "execute_result"
    }
   ],
   "source": [
    "souq['Model']=souq['Model'].apply(LOW)\n",
    "souq['Color']=souq['Color'].apply(LOW)\n",
    "souq['Color']=souq['Color'].apply(Cap)\n",
    "souq['Brand']=souq['Brand'].apply(LOW)\n",
    "souq['Brand']=souq['Brand'].apply(Cap)\n",
    "souq['Description']=souq['Description'].apply(Cap)\n",
    "souq= souq.drop_duplicates()\n",
    "souq.shape"
   ]
  },
  {
   "cell_type": "code",
   "execution_count": 9,
   "id": "3e54ea2d",
   "metadata": {},
   "outputs": [
    {
     "data": {
      "text/plain": [
       "(395, 14)"
      ]
     },
     "execution_count": 9,
     "metadata": {},
     "output_type": "execute_result"
    }
   ],
   "source": [
    "noon['Model']=noon['Model'].apply(LOW)\n",
    "noon['Color']=noon['Color'].apply(LOW)\n",
    "noon['Color']=noon['Color'].apply(Cap)\n",
    "noon['Brand']=noon['Brand'].apply(LOW)\n",
    "noon['Brand']=noon['Brand'].apply(Cap)\n",
    "noon= noon.drop_duplicates()\n",
    "noon.shape"
   ]
  },
  {
   "cell_type": "code",
   "execution_count": 12,
   "id": "ee308904",
   "metadata": {},
   "outputs": [
    {
     "data": {
      "text/plain": [
       "(529, 12)"
      ]
     },
     "execution_count": 12,
     "metadata": {},
     "output_type": "execute_result"
    }
   ],
   "source": [
    "jumia['Model']=jumia['Model'].apply(LOW)\n",
    "jumia['Color']=jumia['Color'].apply(LOW)\n",
    "jumia['Color']=jumia['Color'].apply(Cap)\n",
    "jumia['Brand']=jumia['Brand'].apply(LOW)\n",
    "jumia['Brand']=jumia['Brand'].apply(Cap)\n",
    "jumia= jumia.drop_duplicates()\n",
    "\n",
    "jumia.shape"
   ]
  },
  {
   "cell_type": "markdown",
   "id": "00664d53",
   "metadata": {},
   "source": [
    "### 4-Sort Values By Price and Removing Duplicates"
   ]
  },
  {
   "cell_type": "code",
   "execution_count": 18,
   "id": "9522e7c5",
   "metadata": {},
   "outputs": [
    {
     "data": {
      "text/plain": [
       "(462, 13)"
      ]
     },
     "execution_count": 18,
     "metadata": {},
     "output_type": "execute_result"
    }
   ],
   "source": [
    "souq.sort_values([\"Price_souq\"],ascending=True,inplace=True)\n",
    "souq= souq.drop_duplicates(subset=['Brand','Model','Color','Ram','Storage'] , keep=\"first\")\n",
    "souq.shape"
   ]
  },
  {
   "cell_type": "code",
   "execution_count": 17,
   "id": "2c7f83ca",
   "metadata": {},
   "outputs": [
    {
     "data": {
      "text/plain": [
       "(301, 14)"
      ]
     },
     "execution_count": 17,
     "metadata": {},
     "output_type": "execute_result"
    }
   ],
   "source": [
    "noon.sort_values([\"Price_noon\"],ascending=True,inplace=True)\n",
    "noon= noon.drop_duplicates(subset=['Brand','Model','Color','Ram','Storage'] , keep=\"first\")\n",
    "noon.shape"
   ]
  },
  {
   "cell_type": "code",
   "execution_count": 16,
   "id": "b03765f8",
   "metadata": {},
   "outputs": [
    {
     "data": {
      "text/plain": [
       "(274, 12)"
      ]
     },
     "execution_count": 16,
     "metadata": {},
     "output_type": "execute_result"
    }
   ],
   "source": [
    "jumia.sort_values([\"Price_jumia\"],ascending=True,inplace=True)\n",
    "jumia= jumia.drop_duplicates(subset=['Brand','Model','Color','Ram','Storage'] , keep=\"first\")\n",
    "jumia.shape"
   ]
  },
  {
   "cell_type": "markdown",
   "id": "2e4b9915",
   "metadata": {},
   "source": [
    "#### 5- Changing Datatypes"
   ]
  },
  {
   "cell_type": "code",
   "execution_count": 9,
   "id": "f80ab28c",
   "metadata": {
    "scrolled": false
   },
   "outputs": [
    {
     "data": {
      "text/plain": [
       "Brand             object\n",
       "Model             object\n",
       "Price_souq         int64\n",
       "Description       object\n",
       "URL_souq          object\n",
       "Color             object\n",
       "Ram                int64\n",
       "Storage            int64\n",
       "Shipping_souq     object\n",
       "Screensize       float64\n",
       "Rating_souq      float64\n",
       "count_souq         int64\n",
       "Platform1         object\n",
       "dtype: object"
      ]
     },
     "execution_count": 9,
     "metadata": {},
     "output_type": "execute_result"
    }
   ],
   "source": [
    "souq[\"Screensize\"] = souq['Screensize'].astype('float')\n",
    "souq.dtypes"
   ]
  },
  {
   "cell_type": "code",
   "execution_count": 19,
   "id": "3ccbf8eb",
   "metadata": {},
   "outputs": [
    {
     "data": {
      "text/plain": [
       "Brand                object\n",
       "Model                object\n",
       "Price_noon            int32\n",
       "Description_noon     object\n",
       "URL_noon             object\n",
       "Ram                   int64\n",
       "Storage               int64\n",
       "Color                object\n",
       "Batterysize           int64\n",
       "Screensize          float64\n",
       "Rating_noon         float64\n",
       "count_noon            int64\n",
       "Shipping_noon        object\n",
       "Platform2            object\n",
       "dtype: object"
      ]
     },
     "execution_count": 19,
     "metadata": {},
     "output_type": "execute_result"
    }
   ],
   "source": [
    "noon[\"Price_noon\"] = noon['Price_noon'].astype('int')\n",
    "noon.dtypes"
   ]
  },
  {
   "cell_type": "code",
   "execution_count": 20,
   "id": "a9397944",
   "metadata": {},
   "outputs": [
    {
     "data": {
      "text/plain": [
       "Brand                 object\n",
       "Description_jumia     object\n",
       "Model                 object\n",
       "Price_jumia            int64\n",
       "Color                 object\n",
       "Storage                int64\n",
       "Ram                    int64\n",
       "URL_jumia             object\n",
       "Rating_jumia         float64\n",
       "Count_jumia            int64\n",
       "Shipping_jumia        object\n",
       "Platform3             object\n",
       "dtype: object"
      ]
     },
     "execution_count": 20,
     "metadata": {},
     "output_type": "execute_result"
    }
   ],
   "source": [
    "jumia[\"Storage\"] = jumia['Storage'].astype('int64')\n",
    "\n",
    "jumia.dtypes"
   ]
  },
  {
   "cell_type": "markdown",
   "id": "6e96e747",
   "metadata": {},
   "source": [
    "### 6- Saving Data As a New Cleaned CSVs"
   ]
  },
  {
   "cell_type": "code",
   "execution_count": 10,
   "id": "5b3d6119",
   "metadata": {},
   "outputs": [],
   "source": [
    "souq.to_csv(\"souq.csv\",index=False)"
   ]
  },
  {
   "cell_type": "code",
   "execution_count": null,
   "id": "cd18f60d",
   "metadata": {},
   "outputs": [],
   "source": [
    "noon.to_csv(\"noon.csv\",index=False)"
   ]
  },
  {
   "cell_type": "code",
   "execution_count": null,
   "id": "c0c9dfb8",
   "metadata": {},
   "outputs": [],
   "source": [
    "jumia.to_csv(\"jumia.csv\",index=False)"
   ]
  },
  {
   "cell_type": "markdown",
   "id": "4f2450db",
   "metadata": {},
   "source": [
    "### 7- Inner Joining Three Datasets Based on Specific Columns"
   ]
  },
  {
   "cell_type": "code",
   "execution_count": 21,
   "id": "aad5cee5",
   "metadata": {},
   "outputs": [],
   "source": [
    "souq_noon = pd.merge(souq,noon, on= [\"Model\",\"Brand\",\"Ram\",\"Storage\",\"Color\",\"Screensize\"], how=\"inner\")\n",
    "\n"
   ]
  },
  {
   "cell_type": "code",
   "execution_count": 22,
   "id": "fc039140",
   "metadata": {},
   "outputs": [
    {
     "data": {
      "text/plain": [
       "(185, 21)"
      ]
     },
     "execution_count": 22,
     "metadata": {},
     "output_type": "execute_result"
    }
   ],
   "source": [
    "souq_noon.shape"
   ]
  },
  {
   "cell_type": "code",
   "execution_count": 23,
   "id": "5664cf20",
   "metadata": {},
   "outputs": [],
   "source": [
    "souq_noon=souq_noon[['Brand','Model','Color','Ram','Storage', 'Batterysize',\n",
    "'Screensize', 'Description', 'Price_souq','Price_noon'\n",
    " , 'Shipping_souq', 'Shipping_noon', 'Rating_souq','Rating_noon', \n",
    "'count_souq', 'count_noon',  'URL_souq','URL_noon']]"
   ]
  },
  {
   "cell_type": "code",
   "execution_count": 24,
   "id": "f0c12c99",
   "metadata": {},
   "outputs": [
    {
     "data": {
      "text/html": [
       "<div>\n",
       "<style scoped>\n",
       "    .dataframe tbody tr th:only-of-type {\n",
       "        vertical-align: middle;\n",
       "    }\n",
       "\n",
       "    .dataframe tbody tr th {\n",
       "        vertical-align: top;\n",
       "    }\n",
       "\n",
       "    .dataframe thead th {\n",
       "        text-align: right;\n",
       "    }\n",
       "</style>\n",
       "<table border=\"1\" class=\"dataframe\">\n",
       "  <thead>\n",
       "    <tr style=\"text-align: right;\">\n",
       "      <th></th>\n",
       "      <th>Brand</th>\n",
       "      <th>Model</th>\n",
       "      <th>Color</th>\n",
       "      <th>Ram</th>\n",
       "      <th>Storage</th>\n",
       "      <th>Batterysize</th>\n",
       "      <th>Screensize</th>\n",
       "      <th>Description</th>\n",
       "      <th>Price_souq</th>\n",
       "      <th>Price_noon</th>\n",
       "      <th>...</th>\n",
       "      <th>count_noon</th>\n",
       "      <th>URL_souq</th>\n",
       "      <th>URL_noon</th>\n",
       "      <th>Description_jumia</th>\n",
       "      <th>Price_jumia</th>\n",
       "      <th>URL_jumia</th>\n",
       "      <th>Rating_jumia</th>\n",
       "      <th>Count_jumia</th>\n",
       "      <th>Shipping_jumia</th>\n",
       "      <th>Platform3</th>\n",
       "    </tr>\n",
       "  </thead>\n",
       "  <tbody>\n",
       "    <tr>\n",
       "      <th>0</th>\n",
       "      <td>Xiaomi</td>\n",
       "      <td>redmi 9a</td>\n",
       "      <td>Green</td>\n",
       "      <td>2</td>\n",
       "      <td>32</td>\n",
       "      <td>5000</td>\n",
       "      <td>6.53</td>\n",
       "      <td>Xiaomi redmi 9a dual sim mobile phone, 13 mp c...</td>\n",
       "      <td>1594</td>\n",
       "      <td>1675</td>\n",
       "      <td>...</td>\n",
       "      <td>62</td>\n",
       "      <td>https://egypt.souq.com/eg-en/xiaomi-redmi-9a-d...</td>\n",
       "      <td>https://www.noon.com/egypt-en/redmi-9a-dual-si...</td>\n",
       "      <td>Redmi 9A - 6.53-inch 32GB/2GB Dual SIM Mobile ...</td>\n",
       "      <td>1829</td>\n",
       "      <td>https://www.jumia.com.eg/xiaomi-redmi-9a-6.53-...</td>\n",
       "      <td>0.0</td>\n",
       "      <td>0</td>\n",
       "      <td>Paid</td>\n",
       "      <td>jumia</td>\n",
       "    </tr>\n",
       "    <tr>\n",
       "      <th>1</th>\n",
       "      <td>Samsung</td>\n",
       "      <td>galaxy a02</td>\n",
       "      <td>Red</td>\n",
       "      <td>3</td>\n",
       "      <td>32</td>\n",
       "      <td>5000</td>\n",
       "      <td>6.50</td>\n",
       "      <td>Samsung galaxy a02 dual sim mobile, 6.5 inches...</td>\n",
       "      <td>1750</td>\n",
       "      <td>1849</td>\n",
       "      <td>...</td>\n",
       "      <td>21</td>\n",
       "      <td>https://egypt.souq.com/eg-en/samsung-galaxy-a0...</td>\n",
       "      <td>https://www.noon.com/egypt-en/galaxy-a02-dual-...</td>\n",
       "      <td>Galaxy A02 - 6.5-inch 32GB/3GB Dual SIM 4G Mob...</td>\n",
       "      <td>1810</td>\n",
       "      <td>https://www.jumia.com.eg/samsung-galaxy-a02-6....</td>\n",
       "      <td>0.0</td>\n",
       "      <td>0</td>\n",
       "      <td>Paid</td>\n",
       "      <td>jumia</td>\n",
       "    </tr>\n",
       "    <tr>\n",
       "      <th>2</th>\n",
       "      <td>Samsung</td>\n",
       "      <td>galaxy a02</td>\n",
       "      <td>Black</td>\n",
       "      <td>3</td>\n",
       "      <td>32</td>\n",
       "      <td>5000</td>\n",
       "      <td>6.50</td>\n",
       "      <td>Samsung galaxy a02 dual sim mobile, 6.5 inches...</td>\n",
       "      <td>1799</td>\n",
       "      <td>1850</td>\n",
       "      <td>...</td>\n",
       "      <td>53</td>\n",
       "      <td>https://egypt.souq.com/eg-en/samsung-galaxy-a0...</td>\n",
       "      <td>https://www.noon.com/egypt-en/galaxy-a02-dual-...</td>\n",
       "      <td>Galaxy A02 - 6.5-inch 32GB/3GB Dual SIM 4G Mob...</td>\n",
       "      <td>1810</td>\n",
       "      <td>https://www.jumia.com.eg/samsung-galaxy-a02-6....</td>\n",
       "      <td>0.0</td>\n",
       "      <td>0</td>\n",
       "      <td>Paid</td>\n",
       "      <td>jumia</td>\n",
       "    </tr>\n",
       "    <tr>\n",
       "      <th>3</th>\n",
       "      <td>Samsung</td>\n",
       "      <td>galaxy a02</td>\n",
       "      <td>Gray</td>\n",
       "      <td>3</td>\n",
       "      <td>32</td>\n",
       "      <td>5000</td>\n",
       "      <td>6.50</td>\n",
       "      <td>Samsung galaxy a02 dual sim mobile, 6.5 inches...</td>\n",
       "      <td>1799</td>\n",
       "      <td>1850</td>\n",
       "      <td>...</td>\n",
       "      <td>26</td>\n",
       "      <td>https://egypt.souq.com/eg-en/samsung-galaxy-a0...</td>\n",
       "      <td>https://www.noon.com/egypt-en/galaxy-a02-dual-...</td>\n",
       "      <td>Galaxy A02 - 6.5-inch 32GB/3GB Dual SIM 4G Mob...</td>\n",
       "      <td>1750</td>\n",
       "      <td>https://www.jumia.com.eg/samsung-galaxy-a02-6....</td>\n",
       "      <td>5.0</td>\n",
       "      <td>1</td>\n",
       "      <td>Paid</td>\n",
       "      <td>jumia</td>\n",
       "    </tr>\n",
       "    <tr>\n",
       "      <th>4</th>\n",
       "      <td>Samsung</td>\n",
       "      <td>galaxy a02</td>\n",
       "      <td>Blue</td>\n",
       "      <td>3</td>\n",
       "      <td>32</td>\n",
       "      <td>5000</td>\n",
       "      <td>6.50</td>\n",
       "      <td>Samsung galaxy a02 dual sim mobile, 6.5 inches...</td>\n",
       "      <td>1800</td>\n",
       "      <td>1850</td>\n",
       "      <td>...</td>\n",
       "      <td>56</td>\n",
       "      <td>https://egypt.souq.com/eg-en/samsung-galaxy-a0...</td>\n",
       "      <td>https://www.noon.com/egypt-en/galaxy-a02-dual-...</td>\n",
       "      <td>Galaxy A02 - 6.5-inch 32GB/3GB Dual SIM 4G Mob...</td>\n",
       "      <td>1770</td>\n",
       "      <td>https://www.jumia.com.eg/samsung-galaxy-a02-6....</td>\n",
       "      <td>0.0</td>\n",
       "      <td>0</td>\n",
       "      <td>Paid</td>\n",
       "      <td>jumia</td>\n",
       "    </tr>\n",
       "    <tr>\n",
       "      <th>...</th>\n",
       "      <td>...</td>\n",
       "      <td>...</td>\n",
       "      <td>...</td>\n",
       "      <td>...</td>\n",
       "      <td>...</td>\n",
       "      <td>...</td>\n",
       "      <td>...</td>\n",
       "      <td>...</td>\n",
       "      <td>...</td>\n",
       "      <td>...</td>\n",
       "      <td>...</td>\n",
       "      <td>...</td>\n",
       "      <td>...</td>\n",
       "      <td>...</td>\n",
       "      <td>...</td>\n",
       "      <td>...</td>\n",
       "      <td>...</td>\n",
       "      <td>...</td>\n",
       "      <td>...</td>\n",
       "      <td>...</td>\n",
       "      <td>...</td>\n",
       "    </tr>\n",
       "    <tr>\n",
       "      <th>114</th>\n",
       "      <td>Apple</td>\n",
       "      <td>iphone 11</td>\n",
       "      <td>Black</td>\n",
       "      <td>4</td>\n",
       "      <td>128</td>\n",
       "      <td>3110</td>\n",
       "      <td>6.10</td>\n",
       "      <td>Apple iphone 11 with facetime mhdh3j/a - 128gb...</td>\n",
       "      <td>12500</td>\n",
       "      <td>12700</td>\n",
       "      <td>...</td>\n",
       "      <td>120</td>\n",
       "      <td>https://egypt.souq.com/eg-en/apple-iphone-11-w...</td>\n",
       "      <td>https://www.noon.com/egypt-en/iphone-11-black-...</td>\n",
       "      <td>IPhone 11 With FaceTime - Black -128GB</td>\n",
       "      <td>13600</td>\n",
       "      <td>https://www.jumia.com.eg/iphone-11-with-faceti...</td>\n",
       "      <td>4.9</td>\n",
       "      <td>19</td>\n",
       "      <td>Paid</td>\n",
       "      <td>jumia</td>\n",
       "    </tr>\n",
       "    <tr>\n",
       "      <th>115</th>\n",
       "      <td>Apple</td>\n",
       "      <td>iphone 11</td>\n",
       "      <td>Green</td>\n",
       "      <td>4</td>\n",
       "      <td>128</td>\n",
       "      <td>3110</td>\n",
       "      <td>6.10</td>\n",
       "      <td>Apple iphone 11 with facetime - 128gb, 4gb ram...</td>\n",
       "      <td>12550</td>\n",
       "      <td>13199</td>\n",
       "      <td>...</td>\n",
       "      <td>57</td>\n",
       "      <td>https://egypt.souq.com/eg-en/apple-iphone-11-w...</td>\n",
       "      <td>https://www.noon.com/egypt-en/iphone-11-green-...</td>\n",
       "      <td>IPhone 11 With FaceTime - 128GB - Green</td>\n",
       "      <td>12450</td>\n",
       "      <td>https://www.jumia.com.eg/iphone-11-with-faceti...</td>\n",
       "      <td>4.7</td>\n",
       "      <td>15</td>\n",
       "      <td>Paid</td>\n",
       "      <td>jumia</td>\n",
       "    </tr>\n",
       "    <tr>\n",
       "      <th>116</th>\n",
       "      <td>Apple</td>\n",
       "      <td>iphone xs max</td>\n",
       "      <td>Silver</td>\n",
       "      <td>4</td>\n",
       "      <td>64</td>\n",
       "      <td>3174</td>\n",
       "      <td>6.50</td>\n",
       "      <td>Apple iphone xs max without facetime - 64 gb, ...</td>\n",
       "      <td>13180</td>\n",
       "      <td>12990</td>\n",
       "      <td>...</td>\n",
       "      <td>5</td>\n",
       "      <td>https://egypt.souq.com/eg-en/apple-iphone-xs-m...</td>\n",
       "      <td>https://www.noon.com/egypt-en/iphone-xs-max-wi...</td>\n",
       "      <td>iPhone XS Max with FaceTime - 64GB - Silver</td>\n",
       "      <td>15900</td>\n",
       "      <td>https://www.jumia.com.eg/iphone-xs-max-64gb-si...</td>\n",
       "      <td>0.0</td>\n",
       "      <td>0</td>\n",
       "      <td>Paid</td>\n",
       "      <td>jumia</td>\n",
       "    </tr>\n",
       "    <tr>\n",
       "      <th>117</th>\n",
       "      <td>Apple</td>\n",
       "      <td>iphone 11 pro</td>\n",
       "      <td>Gray</td>\n",
       "      <td>4</td>\n",
       "      <td>64</td>\n",
       "      <td>3046</td>\n",
       "      <td>5.80</td>\n",
       "      <td>Apple iphone 11 pro with facetime - 64gb, 4gb ...</td>\n",
       "      <td>16500</td>\n",
       "      <td>21099</td>\n",
       "      <td>...</td>\n",
       "      <td>0</td>\n",
       "      <td>https://egypt.souq.com/eg-en/apple-iphone-11-p...</td>\n",
       "      <td>https://www.noon.com/egypt-en/iphone-11-pro-wi...</td>\n",
       "      <td>iPhone 11 Pro with FaceTime - 64GB - Space Gray</td>\n",
       "      <td>19800</td>\n",
       "      <td>https://www.jumia.com.eg/iphone-11-pro-with-fa...</td>\n",
       "      <td>0.0</td>\n",
       "      <td>0</td>\n",
       "      <td>Paid</td>\n",
       "      <td>jumia</td>\n",
       "    </tr>\n",
       "    <tr>\n",
       "      <th>118</th>\n",
       "      <td>Apple</td>\n",
       "      <td>iphone 11 pro max</td>\n",
       "      <td>Green</td>\n",
       "      <td>4</td>\n",
       "      <td>256</td>\n",
       "      <td>3969</td>\n",
       "      <td>6.50</td>\n",
       "      <td>Apple iphone 11 pro max with facetime - 256gb,...</td>\n",
       "      <td>19490</td>\n",
       "      <td>20100</td>\n",
       "      <td>...</td>\n",
       "      <td>22</td>\n",
       "      <td>https://egypt.souq.com/eg-en/apple-iphone-11-p...</td>\n",
       "      <td>https://www.noon.com/egypt-en/iphone-11-pro-ma...</td>\n",
       "      <td>iPhone 11 Pro Max with FaceTime - 256GB - Midn...</td>\n",
       "      <td>18885</td>\n",
       "      <td>https://www.jumia.com.eg/iphone-11-pro-max-wit...</td>\n",
       "      <td>4.1</td>\n",
       "      <td>11</td>\n",
       "      <td>Paid</td>\n",
       "      <td>jumia</td>\n",
       "    </tr>\n",
       "  </tbody>\n",
       "</table>\n",
       "<p>119 rows × 25 columns</p>\n",
       "</div>"
      ],
      "text/plain": [
       "       Brand              Model   Color  Ram  Storage  Batterysize  \\\n",
       "0     Xiaomi           redmi 9a   Green    2       32         5000   \n",
       "1    Samsung         galaxy a02     Red    3       32         5000   \n",
       "2    Samsung         galaxy a02   Black    3       32         5000   \n",
       "3    Samsung         galaxy a02    Gray    3       32         5000   \n",
       "4    Samsung         galaxy a02    Blue    3       32         5000   \n",
       "..       ...                ...     ...  ...      ...          ...   \n",
       "114    Apple          iphone 11   Black    4      128         3110   \n",
       "115    Apple          iphone 11   Green    4      128         3110   \n",
       "116    Apple      iphone xs max  Silver    4       64         3174   \n",
       "117    Apple      iphone 11 pro    Gray    4       64         3046   \n",
       "118    Apple  iphone 11 pro max   Green    4      256         3969   \n",
       "\n",
       "     Screensize                                        Description  \\\n",
       "0          6.53  Xiaomi redmi 9a dual sim mobile phone, 13 mp c...   \n",
       "1          6.50  Samsung galaxy a02 dual sim mobile, 6.5 inches...   \n",
       "2          6.50  Samsung galaxy a02 dual sim mobile, 6.5 inches...   \n",
       "3          6.50  Samsung galaxy a02 dual sim mobile, 6.5 inches...   \n",
       "4          6.50  Samsung galaxy a02 dual sim mobile, 6.5 inches...   \n",
       "..          ...                                                ...   \n",
       "114        6.10  Apple iphone 11 with facetime mhdh3j/a - 128gb...   \n",
       "115        6.10  Apple iphone 11 with facetime - 128gb, 4gb ram...   \n",
       "116        6.50  Apple iphone xs max without facetime - 64 gb, ...   \n",
       "117        5.80  Apple iphone 11 pro with facetime - 64gb, 4gb ...   \n",
       "118        6.50  Apple iphone 11 pro max with facetime - 256gb,...   \n",
       "\n",
       "     Price_souq  Price_noon  ... count_noon  \\\n",
       "0          1594        1675  ...         62   \n",
       "1          1750        1849  ...         21   \n",
       "2          1799        1850  ...         53   \n",
       "3          1799        1850  ...         26   \n",
       "4          1800        1850  ...         56   \n",
       "..          ...         ...  ...        ...   \n",
       "114       12500       12700  ...        120   \n",
       "115       12550       13199  ...         57   \n",
       "116       13180       12990  ...          5   \n",
       "117       16500       21099  ...          0   \n",
       "118       19490       20100  ...         22   \n",
       "\n",
       "                                              URL_souq  \\\n",
       "0    https://egypt.souq.com/eg-en/xiaomi-redmi-9a-d...   \n",
       "1    https://egypt.souq.com/eg-en/samsung-galaxy-a0...   \n",
       "2    https://egypt.souq.com/eg-en/samsung-galaxy-a0...   \n",
       "3    https://egypt.souq.com/eg-en/samsung-galaxy-a0...   \n",
       "4    https://egypt.souq.com/eg-en/samsung-galaxy-a0...   \n",
       "..                                                 ...   \n",
       "114  https://egypt.souq.com/eg-en/apple-iphone-11-w...   \n",
       "115  https://egypt.souq.com/eg-en/apple-iphone-11-w...   \n",
       "116  https://egypt.souq.com/eg-en/apple-iphone-xs-m...   \n",
       "117  https://egypt.souq.com/eg-en/apple-iphone-11-p...   \n",
       "118  https://egypt.souq.com/eg-en/apple-iphone-11-p...   \n",
       "\n",
       "                                              URL_noon  \\\n",
       "0    https://www.noon.com/egypt-en/redmi-9a-dual-si...   \n",
       "1    https://www.noon.com/egypt-en/galaxy-a02-dual-...   \n",
       "2    https://www.noon.com/egypt-en/galaxy-a02-dual-...   \n",
       "3    https://www.noon.com/egypt-en/galaxy-a02-dual-...   \n",
       "4    https://www.noon.com/egypt-en/galaxy-a02-dual-...   \n",
       "..                                                 ...   \n",
       "114  https://www.noon.com/egypt-en/iphone-11-black-...   \n",
       "115  https://www.noon.com/egypt-en/iphone-11-green-...   \n",
       "116  https://www.noon.com/egypt-en/iphone-xs-max-wi...   \n",
       "117  https://www.noon.com/egypt-en/iphone-11-pro-wi...   \n",
       "118  https://www.noon.com/egypt-en/iphone-11-pro-ma...   \n",
       "\n",
       "                                     Description_jumia  Price_jumia  \\\n",
       "0    Redmi 9A - 6.53-inch 32GB/2GB Dual SIM Mobile ...         1829   \n",
       "1    Galaxy A02 - 6.5-inch 32GB/3GB Dual SIM 4G Mob...         1810   \n",
       "2    Galaxy A02 - 6.5-inch 32GB/3GB Dual SIM 4G Mob...         1810   \n",
       "3    Galaxy A02 - 6.5-inch 32GB/3GB Dual SIM 4G Mob...         1750   \n",
       "4    Galaxy A02 - 6.5-inch 32GB/3GB Dual SIM 4G Mob...         1770   \n",
       "..                                                 ...          ...   \n",
       "114             IPhone 11 With FaceTime - Black -128GB        13600   \n",
       "115            IPhone 11 With FaceTime - 128GB - Green        12450   \n",
       "116        iPhone XS Max with FaceTime - 64GB - Silver        15900   \n",
       "117    iPhone 11 Pro with FaceTime - 64GB - Space Gray        19800   \n",
       "118  iPhone 11 Pro Max with FaceTime - 256GB - Midn...        18885   \n",
       "\n",
       "                                             URL_jumia Rating_jumia  \\\n",
       "0    https://www.jumia.com.eg/xiaomi-redmi-9a-6.53-...          0.0   \n",
       "1    https://www.jumia.com.eg/samsung-galaxy-a02-6....          0.0   \n",
       "2    https://www.jumia.com.eg/samsung-galaxy-a02-6....          0.0   \n",
       "3    https://www.jumia.com.eg/samsung-galaxy-a02-6....          5.0   \n",
       "4    https://www.jumia.com.eg/samsung-galaxy-a02-6....          0.0   \n",
       "..                                                 ...          ...   \n",
       "114  https://www.jumia.com.eg/iphone-11-with-faceti...          4.9   \n",
       "115  https://www.jumia.com.eg/iphone-11-with-faceti...          4.7   \n",
       "116  https://www.jumia.com.eg/iphone-xs-max-64gb-si...          0.0   \n",
       "117  https://www.jumia.com.eg/iphone-11-pro-with-fa...          0.0   \n",
       "118  https://www.jumia.com.eg/iphone-11-pro-max-wit...          4.1   \n",
       "\n",
       "    Count_jumia Shipping_jumia  Platform3  \n",
       "0             0           Paid      jumia  \n",
       "1             0           Paid      jumia  \n",
       "2             0           Paid      jumia  \n",
       "3             1           Paid      jumia  \n",
       "4             0           Paid      jumia  \n",
       "..          ...            ...        ...  \n",
       "114          19           Paid      jumia  \n",
       "115          15           Paid      jumia  \n",
       "116           0           Paid      jumia  \n",
       "117           0           Paid      jumia  \n",
       "118          11           Paid      jumia  \n",
       "\n",
       "[119 rows x 25 columns]"
      ]
     },
     "execution_count": 24,
     "metadata": {},
     "output_type": "execute_result"
    }
   ],
   "source": [
    "souq_noon_jumia = pd.merge(souq_noon,jumia, on= [\"Model\",\"Brand\",\"Ram\",\"Storage\",\"Color\"],how='inner')\n",
    "\n",
    "souq_noon_jumia.drop_duplicates()"
   ]
  },
  {
   "cell_type": "markdown",
   "id": "ed6e3436",
   "metadata": {},
   "source": [
    "### 8- Shape of DataSet After Joining Three Datasets"
   ]
  },
  {
   "cell_type": "code",
   "execution_count": 32,
   "id": "0a96370f",
   "metadata": {
    "scrolled": true
   },
   "outputs": [
    {
     "data": {
      "text/plain": [
       "(119, 25)"
      ]
     },
     "execution_count": 32,
     "metadata": {},
     "output_type": "execute_result"
    }
   ],
   "source": [
    "souq_noon_jumia.shape"
   ]
  },
  {
   "cell_type": "code",
   "execution_count": 34,
   "id": "9ac4be1c",
   "metadata": {},
   "outputs": [
    {
     "data": {
      "text/plain": [
       "Index(['Brand', 'Model', 'Color', 'Ram', 'Storage', 'Batterysize',\n",
       "       'Screensize', 'Description', 'Price_souq', 'Price_noon',\n",
       "       'Shipping_souq', 'Shipping_noon', 'Rating_souq', 'Rating_noon',\n",
       "       'count_souq', 'count_noon', 'URL_souq', 'URL_noon', 'Description_jumia',\n",
       "       'Price_jumia', 'URL_jumia', 'Rating_jumia', 'Count_jumia',\n",
       "       'Shipping_jumia', 'Platform3'],\n",
       "      dtype='object')"
      ]
     },
     "execution_count": 34,
     "metadata": {},
     "output_type": "execute_result"
    }
   ],
   "source": [
    "souq_noon_jumia.columns"
   ]
  },
  {
   "cell_type": "markdown",
   "id": "871f1462",
   "metadata": {},
   "source": [
    "### 9-Rearranging Columns to be more Readable "
   ]
  },
  {
   "cell_type": "code",
   "execution_count": 35,
   "id": "60ddb6af",
   "metadata": {},
   "outputs": [],
   "source": [
    "souq_noon_jumia=souq_noon_jumia[['Brand','Model','Color','Ram','Storage', 'Batterysize',\n",
    "'Screensize', 'Description', 'Price_souq','Price_jumia','Price_noon'\n",
    " , 'Shipping_souq', 'Shipping_noon', 'Shipping_jumia', 'Rating_souq','Rating_noon', 'Rating_jumia',\n",
    "'count_souq', 'count_noon', 'Count_jumia', 'URL_souq','URL_noon', 'URL_jumia']]"
   ]
  },
  {
   "cell_type": "markdown",
   "id": "2811e9f5",
   "metadata": {},
   "source": [
    "### 10- Our Final Cleaned Dataset Prepared For Visualization Phase"
   ]
  },
  {
   "cell_type": "code",
   "execution_count": 25,
   "id": "5297510f",
   "metadata": {},
   "outputs": [],
   "source": [
    "\n",
    "souq_noon_jumia.to_csv(\"souq_noon_jumia.csv\",index=False)"
   ]
  }
 ],
 "metadata": {
  "kernelspec": {
   "display_name": "Python 3",
   "language": "python",
   "name": "python3"
  },
  "language_info": {
   "codemirror_mode": {
    "name": "ipython",
    "version": 3
   },
   "file_extension": ".py",
   "mimetype": "text/x-python",
   "name": "python",
   "nbconvert_exporter": "python",
   "pygments_lexer": "ipython3",
   "version": "3.8.8"
  }
 },
 "nbformat": 4,
 "nbformat_minor": 5
}
